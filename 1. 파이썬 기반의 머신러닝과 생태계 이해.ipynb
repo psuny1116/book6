{
 "cells": [
  {
   "cell_type": "code",
   "execution_count": 1,
   "metadata": {},
   "outputs": [],
   "source": [
    "import numpy as np"
   ]
  },
  {
   "cell_type": "code",
   "execution_count": 2,
   "metadata": {},
   "outputs": [
    {
     "name": "stdout",
     "output_type": "stream",
     "text": [
      "array1 type:  <class 'numpy.ndarray'>\n",
      "array1 array 형태:  (3,)\n"
     ]
    }
   ],
   "source": [
    "array1 = np.array([1, 2, 3])\n",
    "print('array1 type: ', type(array1))\n",
    "print('array1 array 형태: ', array1.shape)"
   ]
  },
  {
   "cell_type": "code",
   "execution_count": 3,
   "metadata": {},
   "outputs": [
    {
     "name": "stdout",
     "output_type": "stream",
     "text": [
      "array2 type:  <class 'numpy.ndarray'>\n",
      "array2 array 형태:  (2, 3)\n"
     ]
    }
   ],
   "source": [
    "array2 = np.array([[1, 2, 3],\n",
    "                   [2, 3, 4]])\n",
    "print('array2 type: ', type(array2))\n",
    "print('array2 array 형태: ', array2.shape)"
   ]
  },
  {
   "cell_type": "code",
   "execution_count": 4,
   "metadata": {},
   "outputs": [
    {
     "name": "stdout",
     "output_type": "stream",
     "text": [
      "array3 type:  <class 'numpy.ndarray'>\n",
      "array3 array 형태:  (1, 3)\n"
     ]
    }
   ],
   "source": [
    "array3 = np.array([[1, 2, 3]])\n",
    "print('array3 type: ', type(array3))\n",
    "print('array3 array 형태: ', array3.shape)"
   ]
  },
  {
   "cell_type": "markdown",
   "metadata": {},
   "source": [
    "#### 각 array의 차원"
   ]
  },
  {
   "cell_type": "code",
   "execution_count": 5,
   "metadata": {},
   "outputs": [
    {
     "name": "stdout",
     "output_type": "stream",
     "text": [
      "array1: 1차원, array2: 2차원, array3:  2차원\n"
     ]
    }
   ],
   "source": [
    "print('array1: {:0}차원, array2: {:1}차원, array3: {:2}차원'.format(array1.ndim, array2.ndim, array3.ndim))"
   ]
  },
  {
   "cell_type": "code",
   "execution_count": 6,
   "metadata": {},
   "outputs": [
    {
     "name": "stdout",
     "output_type": "stream",
     "text": [
      "<class 'list'>\n",
      "<class 'numpy.ndarray'>\n",
      "[1 2 3] int32\n"
     ]
    }
   ],
   "source": [
    "list1 = [1, 2, 3]\n",
    "print(type(list1))\n",
    "\n",
    "array1 = np.array(list1)\n",
    "print(type(array1))\n",
    "print(array1, array1.dtype)"
   ]
  },
  {
   "cell_type": "code",
   "execution_count": 7,
   "metadata": {},
   "outputs": [
    {
     "name": "stdout",
     "output_type": "stream",
     "text": [
      "['1' '2' 'test'] <U11\n"
     ]
    }
   ],
   "source": [
    "list2 = [1, 2, 'test']\n",
    "array2 = np.array(list2)\n",
    "print(array2, array2.dtype)"
   ]
  },
  {
   "cell_type": "code",
   "execution_count": 8,
   "metadata": {},
   "outputs": [
    {
     "name": "stdout",
     "output_type": "stream",
     "text": [
      "[1. 2. 3.] float64\n"
     ]
    }
   ],
   "source": [
    "list3 = [1, 2, 3.0]\n",
    "array3 = np.array(list3)\n",
    "print(array3, array3.dtype)"
   ]
  },
  {
   "cell_type": "markdown",
   "metadata": {},
   "source": [
    "#### 데이터 타입 변경"
   ]
  },
  {
   "cell_type": "code",
   "execution_count": 9,
   "metadata": {},
   "outputs": [
    {
     "name": "stdout",
     "output_type": "stream",
     "text": [
      "[1. 2. 3.] float64\n"
     ]
    }
   ],
   "source": [
    "array_int = np.array([1, 2, 3])\n",
    "array_float = array_int.astype('float64')\n",
    "print(array_float, array_float.dtype)"
   ]
  },
  {
   "cell_type": "code",
   "execution_count": 10,
   "metadata": {},
   "outputs": [
    {
     "name": "stdout",
     "output_type": "stream",
     "text": [
      "[1 2 3] int32\n"
     ]
    }
   ],
   "source": [
    "array_int1 = array_float.astype('int32')\n",
    "print(array_int1, array_int1.dtype)"
   ]
  },
  {
   "cell_type": "code",
   "execution_count": 11,
   "metadata": {},
   "outputs": [
    {
     "name": "stdout",
     "output_type": "stream",
     "text": [
      "[1 2 3] int32\n"
     ]
    }
   ],
   "source": [
    "array_float1 = np.array([1.1, 2.1, 3.1])\n",
    "array_int2 = array_float1.astype('int32')\n",
    "print(array_int2, array_int2.dtype)"
   ]
  },
  {
   "cell_type": "markdown",
   "metadata": {},
   "source": [
    "#### arange"
   ]
  },
  {
   "cell_type": "code",
   "execution_count": 12,
   "metadata": {},
   "outputs": [
    {
     "name": "stdout",
     "output_type": "stream",
     "text": [
      "[0 1 2 3 4 5 6 7 8 9]\n",
      "int32 (10,)\n"
     ]
    }
   ],
   "source": [
    "sequence_array = np.arange(10)\n",
    "print(sequence_array)\n",
    "print(sequence_array.dtype, sequence_array.shape)"
   ]
  },
  {
   "cell_type": "markdown",
   "metadata": {},
   "source": [
    "#### zero"
   ]
  },
  {
   "cell_type": "code",
   "execution_count": 13,
   "metadata": {},
   "outputs": [
    {
     "name": "stdout",
     "output_type": "stream",
     "text": [
      "[[0 0]\n",
      " [0 0]\n",
      " [0 0]]\n",
      "int32 (3, 2)\n"
     ]
    }
   ],
   "source": [
    "zero_array = np.zeros((3, 2), dtype = 'int32')\n",
    "print(zero_array)\n",
    "print(zero_array.dtype, zero_array.shape)"
   ]
  },
  {
   "cell_type": "markdown",
   "metadata": {},
   "source": [
    "#### ones"
   ]
  },
  {
   "cell_type": "code",
   "execution_count": 14,
   "metadata": {},
   "outputs": [
    {
     "name": "stdout",
     "output_type": "stream",
     "text": [
      "[[1. 1.]\n",
      " [1. 1.]\n",
      " [1. 1.]]\n",
      "float64 (3, 2)\n"
     ]
    }
   ],
   "source": [
    "one_array = np.ones((3, 2))\n",
    "print(one_array)\n",
    "print(one_array.dtype, one_array.shape)"
   ]
  },
  {
   "cell_type": "markdown",
   "metadata": {},
   "source": [
    "#### reshape: 차원 및 크기 변경"
   ]
  },
  {
   "cell_type": "code",
   "execution_count": 15,
   "metadata": {},
   "outputs": [
    {
     "name": "stdout",
     "output_type": "stream",
     "text": [
      "[0 1 2 3 4 5 6 7 8 9]\n",
      "\n",
      "[[0 1 2 3 4]\n",
      " [5 6 7 8 9]]\n",
      "\n",
      "[[0 1]\n",
      " [2 3]\n",
      " [4 5]\n",
      " [6 7]\n",
      " [8 9]]\n"
     ]
    }
   ],
   "source": [
    "array1 = np.arange(10)\n",
    "print(array1)\n",
    "\n",
    "print()\n",
    "\n",
    "array2 = array1.reshape(2, 5)\n",
    "print(array2)\n",
    "\n",
    "print()\n",
    "\n",
    "array3 = array1.reshape(5, 2)\n",
    "print(array3)"
   ]
  },
  {
   "cell_type": "code",
   "execution_count": 16,
   "metadata": {},
   "outputs": [
    {
     "name": "stdout",
     "output_type": "stream",
     "text": [
      "[0 1 2 3 4 5 6 7 8 9]\n",
      "array2 shape:  (2, 5)\n",
      "array3 shape:  (5, 2)\n"
     ]
    }
   ],
   "source": [
    "array1 = np.arange(10)\n",
    "print(array1)\n",
    "\n",
    "array2 = array1.reshape(-1, 5)\n",
    "print('array2 shape: ', array2.shape)\n",
    "\n",
    "array3 = array1.reshape(5, -1)\n",
    "print('array3 shape: ', array3.shape)"
   ]
  },
  {
   "cell_type": "code",
   "execution_count": 17,
   "metadata": {},
   "outputs": [
    {
     "name": "stdout",
     "output_type": "stream",
     "text": [
      "[[[0, 1], [2, 3]], [[4, 5], [6, 7]]]\n",
      "\n",
      "[[0], [1], [2], [3], [4], [5], [6], [7]]\n",
      "array5 shape:  (8, 1)\n",
      "\n",
      "[[0], [1], [2], [3], [4], [5], [6], [7]]\n",
      "array6 shape:  (8, 1)\n"
     ]
    }
   ],
   "source": [
    "array1 = np.arange(8)\n",
    "array3d = array1.reshape((2, 2, 2))\n",
    "print(array3d.tolist())\n",
    "\n",
    "print()\n",
    "\n",
    "# 3차원 ndarray를 2차원 ndarray로 변환\n",
    "\n",
    "array5 = array3d.reshape(-1, 1)\n",
    "print(array5.tolist())\n",
    "print('array5 shape: ', array5.shape)\n",
    "\n",
    "print()\n",
    "\n",
    "# 1차원 ndarray를 2차원 ndarray로 변환\n",
    "\n",
    "array6 = array1.reshape(-1, 1)\n",
    "print(array6.tolist())\n",
    "print('array6 shape: ', array6.shape)"
   ]
  },
  {
   "cell_type": "markdown",
   "metadata": {},
   "source": [
    "#### 단일 값 추출"
   ]
  },
  {
   "cell_type": "code",
   "execution_count": 18,
   "metadata": {},
   "outputs": [
    {
     "name": "stdout",
     "output_type": "stream",
     "text": [
      "[1 2 3 4 5 6 7 8 9]\n",
      "3\n",
      "<class 'numpy.int32'>\n",
      "9 8\n"
     ]
    }
   ],
   "source": [
    "array1 = np.arange(start = 1, stop = 10)\n",
    "print(array1)\n",
    "\n",
    "value = array1[2]     # 3번째 인덱스 위치의 데이터값\n",
    "print(value)\n",
    "print(type(value))\n",
    "\n",
    "print(array1[-1], array1[-2])     # 맨 뒤의 값, 맨 뒤에서 두번째 값"
   ]
  },
  {
   "cell_type": "markdown",
   "metadata": {},
   "source": [
    "#### 단일 인덱스를 이용한 데이터값 수정"
   ]
  },
  {
   "cell_type": "code",
   "execution_count": 19,
   "metadata": {},
   "outputs": [
    {
     "name": "stdout",
     "output_type": "stream",
     "text": [
      "[9 2 3 4 5 6 7 8 0]\n"
     ]
    }
   ],
   "source": [
    "array1[0] = 9\n",
    "array1[8] = 0\n",
    "print(array1)"
   ]
  },
  {
   "cell_type": "markdown",
   "metadata": {},
   "source": [
    "#### 다차원 ndarray에서 단일 값 추출"
   ]
  },
  {
   "cell_type": "code",
   "execution_count": 20,
   "metadata": {},
   "outputs": [
    {
     "name": "stdout",
     "output_type": "stream",
     "text": [
      "[[1 2 3]\n",
      " [4 5 6]\n",
      " [7 8 9]]\n",
      "1\n",
      "2\n",
      "4\n",
      "9\n"
     ]
    }
   ],
   "source": [
    "array1d = np.arange(start = 1, stop = 10)\n",
    "array2d = array1d.reshape(3, 3)\n",
    "print(array2d)\n",
    "print(array2d[0, 0])\n",
    "print(array2d[0, 1])\n",
    "print(array2d[1, 0])\n",
    "print(array2d[2, 2])"
   ]
  },
  {
   "cell_type": "markdown",
   "metadata": {},
   "source": [
    "#### 슬라이싱"
   ]
  },
  {
   "cell_type": "code",
   "execution_count": 21,
   "metadata": {},
   "outputs": [
    {
     "name": "stdout",
     "output_type": "stream",
     "text": [
      "array3:  [1 2 3]\n",
      "<class 'numpy.ndarray'>\n",
      "array4:  [1 2 3]\n",
      "array5:  [4 5 6 7 8 9]\n",
      "array6:  [1 2 3 4 5 6 7 8 9]\n"
     ]
    }
   ],
   "source": [
    "array1 = np.arange(start = 1, stop = 10)\n",
    "array3 = array1[0:3]\n",
    "print('array3: ', array3)\n",
    "print(type(array3))\n",
    "\n",
    "array4 = array1[:3]\n",
    "print('array4: ', array4)\n",
    "\n",
    "array5 = array1[3:]\n",
    "print('array5: ', array5)\n",
    "\n",
    "array6 = array1[:]\n",
    "print('array6: ', array6)"
   ]
  },
  {
   "cell_type": "markdown",
   "metadata": {},
   "source": [
    "#### 2차원 ndarray에서의 슬라이싱"
   ]
  },
  {
   "cell_type": "code",
   "execution_count": 22,
   "metadata": {},
   "outputs": [
    {
     "name": "stdout",
     "output_type": "stream",
     "text": [
      "array2d:\n",
      " [[1 2 3]\n",
      " [4 5 6]\n",
      " [7 8 9]]\n",
      "array2d[0:2, 0:2]\n",
      " [[1 2]\n",
      " [4 5]]\n",
      "array2d[1:3, 0:3]\n",
      " [[4 5 6]\n",
      " [7 8 9]]\n",
      "array2d[1:3, :]\n",
      " [[4 5 6]\n",
      " [7 8 9]]\n",
      "array2d[:, :]\n",
      " [[1 2 3]\n",
      " [4 5 6]\n",
      " [7 8 9]]\n",
      "array2d[:2, 1:]\n",
      " [[2 3]\n",
      " [5 6]]\n",
      "array2d[:2, 0]\n",
      " [1 4]\n"
     ]
    }
   ],
   "source": [
    "array1d = np.arange(start = 1, stop = 10)\n",
    "array2d = array1d.reshape(3, 3)\n",
    "print('array2d:\\n', array2d)\n",
    "\n",
    "print('array2d[0:2, 0:2]\\n', array2d[0:2, 0:2])\n",
    "print('array2d[1:3, 0:3]\\n', array2d[1:3, 0:3])\n",
    "print('array2d[1:3, :]\\n', array2d[1:3, :])\n",
    "print('array2d[:, :]\\n', array2d[:, :])\n",
    "print('array2d[:2, 1:]\\n', array2d[:2, 1:])\n",
    "print('array2d[:2, 0]\\n', array2d[:2, 0])"
   ]
  },
  {
   "cell_type": "code",
   "execution_count": 23,
   "metadata": {},
   "outputs": [
    {
     "name": "stdout",
     "output_type": "stream",
     "text": [
      "array2d[0]:  [1 2 3]\n",
      "array2d[1]:  [4 5 6]\n",
      "array2d[0] shape:  (3,) array2d[1] shape:  (3,)\n"
     ]
    }
   ],
   "source": [
    "print('array2d[0]: ', array2d[0])\n",
    "print('array2d[1]: ', array2d[1])\n",
    "print('array2d[0] shape: ', array2d[0].shape, 'array2d[1] shape: ', array2d[1].shape)"
   ]
  },
  {
   "cell_type": "markdown",
   "metadata": {},
   "source": [
    "#### fancy indexing"
   ]
  },
  {
   "cell_type": "code",
   "execution_count": 24,
   "metadata": {},
   "outputs": [
    {
     "name": "stdout",
     "output_type": "stream",
     "text": [
      "array3:  [3, 6]\n",
      "array4:  [[1, 2], [4, 5]]\n",
      "array5:  [[1, 2, 3], [4, 5, 6]]\n"
     ]
    }
   ],
   "source": [
    "array1d = np.arange(start = 1, stop = 10)\n",
    "array2d = array1d.reshape(3, 3)\n",
    "\n",
    "array3 = array2d[[0, 1], 2]\n",
    "print('array3: ', array3.tolist())\n",
    "array4 = array2d[[0, 1], 0:2]\n",
    "print('array4: ', array4.tolist())\n",
    "array5 = array2d[[0, 1]]\n",
    "print('array5: ', array5.tolist())"
   ]
  },
  {
   "cell_type": "markdown",
   "metadata": {},
   "source": [
    "#### boolean indexing"
   ]
  },
  {
   "cell_type": "code",
   "execution_count": 25,
   "metadata": {},
   "outputs": [
    {
     "name": "stdout",
     "output_type": "stream",
     "text": [
      "[6 7 8 9]\n"
     ]
    }
   ],
   "source": [
    "array1d = np.arange(start = 1, stop = 10)\n",
    "array3 = array1d[array1d > 5]\n",
    "print(array3)"
   ]
  },
  {
   "cell_type": "markdown",
   "metadata": {},
   "source": [
    "#### np.sort(): 원 행렬은 그대로 유지한 채 원 행렬의 정렬된 행렬을 반환\n",
    "#### ndarray.sort(): 원 행렬 자체를 정렬한 형태로 변환. 반환 값은 None"
   ]
  },
  {
   "cell_type": "code",
   "execution_count": 26,
   "metadata": {},
   "outputs": [
    {
     "name": "stdout",
     "output_type": "stream",
     "text": [
      "원본 행렬:  [3 1 9 5]\n",
      "np.sort() 호출 후 반환된 정렬 행렬:  [1 3 5 9]\n",
      "np.sort() 호출 후 원본 행렬:  [3 1 9 5]\n",
      "org_array.sort() 호출 후 반환된 행렬:  None\n",
      "org_array.sort() 호출 후 원본 행렬:  [1 3 5 9]\n",
      "내림차순 정렬:  [9 5 3 1]\n"
     ]
    }
   ],
   "source": [
    "org_array = np.array([3, 1, 9, 5])\n",
    "print('원본 행렬: ', org_array)\n",
    "\n",
    "sort_array1 = np.sort(org_array)\n",
    "print('np.sort() 호출 후 반환된 정렬 행렬: ', sort_array1)\n",
    "print('np.sort() 호출 후 원본 행렬: ', org_array)\n",
    "\n",
    "sort_array2 = org_array.sort()\n",
    "print('org_array.sort() 호출 후 반환된 행렬: ', sort_array2)\n",
    "print('org_array.sort() 호출 후 원본 행렬: ', org_array)\n",
    "\n",
    "# 내림차순 정렬\n",
    "\n",
    "sort_array1_desc = np.sort(org_array)[::-1]\n",
    "print('내림차순 정렬: ', sort_array1_desc)"
   ]
  },
  {
   "cell_type": "code",
   "execution_count": 27,
   "metadata": {},
   "outputs": [
    {
     "name": "stdout",
     "output_type": "stream",
     "text": [
      "행 방향 정렬:\n",
      " [[ 7  1]\n",
      " [ 8 12]]\n",
      "열 방향 정렬:\n",
      " [[ 8 12]\n",
      " [ 1  7]]\n"
     ]
    }
   ],
   "source": [
    "# 행렬이 2차원 이상일 경우 정렬\n",
    "\n",
    "array2d = np.array([[8, 12],\n",
    "                   [7, 1]])\n",
    "sort_array2d_axis0 = np.sort(array2d, axis = 0)     # 행 방향 정렬\n",
    "print('행 방향 정렬:\\n', sort_array2d_axis0)\n",
    "\n",
    "sort_array2d_axis1 = np.sort(array2d, axis = 1)     # 열 방향 정렬\n",
    "print('열 방향 정렬:\\n', sort_array2d_axis1)"
   ]
  },
  {
   "cell_type": "markdown",
   "metadata": {},
   "source": [
    "#### np.argsort(): 정렬된 행렬의 원본 행렬 인덱스 반환"
   ]
  },
  {
   "cell_type": "code",
   "execution_count": 28,
   "metadata": {},
   "outputs": [
    {
     "name": "stdout",
     "output_type": "stream",
     "text": [
      "<class 'numpy.ndarray'>\n",
      "행렬 정렬 시 원본 행렬의 인덱스:  [1 0 3 2]\n",
      "행렬 내림차순 정렬 시 원본 행렬의 인덱스:  [2 3 0 1]\n"
     ]
    }
   ],
   "source": [
    "org_array = np.array([3, 1, 9, 5])\n",
    "sort_indices = np.argsort(org_array)\n",
    "print(type(sort_indices))\n",
    "print('행렬 정렬 시 원본 행렬의 인덱스: ', sort_indices)\n",
    "\n",
    "# 내림차순 정렬 시\n",
    "sort_indices_desc = np.argsort(org_array)[::-1]\n",
    "print('행렬 내림차순 정렬 시 원본 행렬의 인덱스: ', sort_indices_desc)"
   ]
  },
  {
   "cell_type": "code",
   "execution_count": 29,
   "metadata": {},
   "outputs": [
    {
     "name": "stdout",
     "output_type": "stream",
     "text": [
      "성적 오름차순 정렬 시 score_array의 인덱스:  [0 2 4 1 3]\n",
      "성적 오름차순으로 name_array의 이름 출력:  ['john' 'sarah' 'samuel' 'mike' 'kate']\n"
     ]
    }
   ],
   "source": [
    "name_array = np.array(['john', 'mike', 'sarah', 'kate', 'samuel'])\n",
    "score_array = np.array([78, 95, 84, 98, 88])\n",
    "\n",
    "sort_indices_asc = np.argsort(score_array)\n",
    "print('성적 오름차순 정렬 시 score_array의 인덱스: ', sort_indices_asc)\n",
    "print('성적 오름차순으로 name_array의 이름 출력: ', name_array[sort_indices_asc])"
   ]
  },
  {
   "cell_type": "markdown",
   "metadata": {},
   "source": [
    "#### np.dot(): 행렬 내적(행렬 곱)"
   ]
  },
  {
   "cell_type": "code",
   "execution_count": 30,
   "metadata": {},
   "outputs": [
    {
     "name": "stdout",
     "output_type": "stream",
     "text": [
      "[[ 58  64]\n",
      " [139 154]]\n"
     ]
    }
   ],
   "source": [
    "a = np.array([[1, 2, 3],\n",
    "             [4, 5, 6]])\n",
    "b = np.array([[7, 8],\n",
    "             [9, 10],\n",
    "             [11, 12]])\n",
    "dot_product = np.dot(a, b)\n",
    "print(dot_product)"
   ]
  },
  {
   "cell_type": "markdown",
   "metadata": {},
   "source": [
    "#### np.transpose: 전치 행렬(원 행렬에서 행과 열 위치를 교환한 원소로 구성된 행렬)"
   ]
  },
  {
   "cell_type": "code",
   "execution_count": 31,
   "metadata": {},
   "outputs": [
    {
     "name": "stdout",
     "output_type": "stream",
     "text": [
      "[[1 3]\n",
      " [2 4]]\n"
     ]
    }
   ],
   "source": [
    "a = np.array([[1, 2],\n",
    "             [3, 4]])\n",
    "transpose_mat = np.transpose(a)\n",
    "print(transpose_mat)"
   ]
  },
  {
   "cell_type": "code",
   "execution_count": 32,
   "metadata": {},
   "outputs": [],
   "source": [
    "import pandas as pd"
   ]
  },
  {
   "cell_type": "markdown",
   "metadata": {},
   "source": [
    "#### 넘파이 ndarray, 리스트, 딕셔너리를 dataframe으로 변환하기"
   ]
  },
  {
   "cell_type": "code",
   "execution_count": 40,
   "metadata": {},
   "outputs": [
    {
     "name": "stdout",
     "output_type": "stream",
     "text": [
      "array1 shape:  (3,)\n",
      "1차원 리스트로 만든 dataframe:\n",
      "    col1\n",
      "0     1\n",
      "1     2\n",
      "2     3\n",
      "1차원 ndarray로 만든 dataframe: \n",
      "    col1\n",
      "0     1\n",
      "1     2\n",
      "2     3\n"
     ]
    }
   ],
   "source": [
    "# 1차원 형태의 데이터를 기반으로 dataframe 생성\n",
    "\n",
    "col_name1 = ['col1']\n",
    "list1 = [1, 2, 3]\n",
    "array1 = np.array(list1)\n",
    "print('array1 shape: ', array1.shape)\n",
    "\n",
    "# 리스트를 이용해 dataframe 생성\n",
    "\n",
    "df_list1 = pd.DataFrame(list1, columns = col_name1)\n",
    "print('1차원 리스트로 만든 dataframe:\\n', df_list1)\n",
    "\n",
    "# 넘파이 ndarray를 이용해 dataframe 생성\n",
    "\n",
    "df_array1 = pd.DataFrame(array1, columns = col_name1)\n",
    "print('1차원 ndarray로 만든 dataframe: \\n', df_array1)"
   ]
  },
  {
   "cell_type": "code",
   "execution_count": 41,
   "metadata": {},
   "outputs": [
    {
     "name": "stdout",
     "output_type": "stream",
     "text": [
      "array2 shape:  (2, 3)\n",
      "2차원 리스트로 만든 dataframe: \n",
      "    col1  col2  col3\n",
      "0     1     2     3\n",
      "1    11    12    13\n",
      "2차원 ndarray로 만든 dataframe: \n",
      "    col1  col2  col3\n",
      "0     1     2     3\n",
      "1    11    12    13\n"
     ]
    }
   ],
   "source": [
    "# 2차원 형태의 데이터를 기반으로 dataframe 생성\n",
    "\n",
    "col_name2 = ['col1', 'col2', 'col3']\n",
    "\n",
    "list2 = [[1, 2, 3],\n",
    "        [11, 12, 13]]\n",
    "array2 = np.array(list2)\n",
    "print('array2 shape: ', array2.shape)\n",
    "\n",
    "df_list2 = pd.DataFrame(list2, columns = col_name2)\n",
    "print('2차원 리스트로 만든 dataframe: \\n', df_list2)\n",
    "\n",
    "df_array2 = pd.DataFrame(array2, columns = col_name2)\n",
    "print('2차원 ndarray로 만든 dataframe: \\n', df_array2)"
   ]
  },
  {
   "cell_type": "code",
   "execution_count": 42,
   "metadata": {},
   "outputs": [
    {
     "name": "stdout",
     "output_type": "stream",
     "text": [
      "딕셔너리로 만든 dataframe:\n",
      "    col1  col2  col3\n",
      "0     1     2     3\n",
      "1    11    22    33\n"
     ]
    }
   ],
   "source": [
    "# 딕셔너리를 dataframe으로\n",
    "## 딕셔너리의 키 = 칼럼명, 값 = 키에 해당하는 칼럼 데이터\n",
    "\n",
    "dict = {'col1' : [1, 11], 'col2' : [2, 22], 'col3' : [3, 33]}\n",
    "df_dict = pd.DataFrame(dict)\n",
    "print('딕셔너리로 만든 dataframe:\\n', df_dict)"
   ]
  },
  {
   "cell_type": "markdown",
   "metadata": {},
   "source": [
    "#### dataframe을 넘파이 ndarray, 리스트, 딕셔너리로 변환\n",
    "\n",
    "- values를 이용"
   ]
  },
  {
   "cell_type": "code",
   "execution_count": 45,
   "metadata": {},
   "outputs": [
    {
     "name": "stdout",
     "output_type": "stream",
     "text": [
      "df_dict.values 타입:  <class 'numpy.ndarray'> df_dict.values shape:  (2, 3)\n",
      "[[ 1  2  3]\n",
      " [11 22 33]]\n",
      "\n",
      "df_dict.values.tolist() 타입:  <class 'list'>\n",
      "[[1, 2, 3], [11, 22, 33]]\n",
      "\n",
      "df_dict.to_dict() 타입:  <class 'dict'>\n",
      "{'col1': [1, 11], 'col2': [2, 22], 'col3': [3, 33]}\n"
     ]
    }
   ],
   "source": [
    "# dataframe을 ndarray로 변환\n",
    "\n",
    "array3 = df_dict.values\n",
    "print('df_dict.values 타입: ', type(array3), 'df_dict.values shape: ', array3.shape)\n",
    "print(array3)\n",
    "\n",
    "print()\n",
    "\n",
    "# dataframe을 리스트로 변환\n",
    "\n",
    "list3 = df_dict.values.tolist()\n",
    "print('df_dict.values.tolist() 타입: ', type(list3))\n",
    "print(list3)\n",
    "\n",
    "print()\n",
    "\n",
    "# dataframe을 딕셔너리로 변환\n",
    "\n",
    "dict3 = df_dict.to_dict('list')     # 인자로 list를 넣으면 딕셔너리의 값이 리스트형으로 반환됨\n",
    "print('df_dict.to_dict() 타입: ', type(dict3))\n",
    "print(dict3)"
   ]
  },
  {
   "cell_type": "markdown",
   "metadata": {},
   "source": [
    "#### lambda"
   ]
  },
  {
   "cell_type": "code",
   "execution_count": 1,
   "metadata": {},
   "outputs": [
    {
     "name": "stdout",
     "output_type": "stream",
     "text": [
      "9\n"
     ]
    }
   ],
   "source": [
    "lambda_square = lambda x: x**2\n",
    "\n",
    "print(lambda_square(3))"
   ]
  },
  {
   "cell_type": "code",
   "execution_count": 3,
   "metadata": {},
   "outputs": [
    {
     "data": {
      "text/plain": [
       "[1, 4, 9]"
      ]
     },
     "execution_count": 3,
     "metadata": {},
     "output_type": "execute_result"
    }
   ],
   "source": [
    "# lambda 식을 이용할 때 여러 개의 값을 입력 인자로 사용해야 할 경우에는 map()함수 사용\n",
    "\n",
    "a = [1, 2, 3]\n",
    "squares = map(lambda x: x**2, a)\n",
    "list(squares)"
   ]
  }
 ],
 "metadata": {
  "kernelspec": {
   "display_name": "Python 3",
   "language": "python",
   "name": "python3"
  },
  "language_info": {
   "codemirror_mode": {
    "name": "ipython",
    "version": 3
   },
   "file_extension": ".py",
   "mimetype": "text/x-python",
   "name": "python",
   "nbconvert_exporter": "python",
   "pygments_lexer": "ipython3",
   "version": "3.7.6"
  }
 },
 "nbformat": 4,
 "nbformat_minor": 4
}
