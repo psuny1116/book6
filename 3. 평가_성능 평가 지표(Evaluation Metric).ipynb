{
 "cells": [
  {
   "cell_type": "markdown",
   "metadata": {},
   "source": [
    "# 성능 평가 지표(Evaluation Metric)\n",
    "\n",
    "## 회귀 모델의 경우\n",
    "\n",
    "- 대부분 실제값과 예측값의 오차 평균값에 기반함\n",
    "\n",
    "## 분류 모델의 경우\n",
    "\n",
    "1. 정확도(Accuracy)\n",
    "\n",
    "    - 실제 데이터에서 예측 데이터가 얼마나 같은지를 판단하는 지표\n",
    "    - 예측 결과가 동일한 데이터 건수 / 전체 예측 데이터 건수\n",
    "    - 이진 분류의 경우 데이터의 구성에 따라 머신러닝 모델의 성능을 왜곡할 수 있기 때문에 정확도 하나만 가지고 성능을 평가하지 않음\n",
    "    - 특히, 불균형한(imbalanced) 레이블 값 분포에서 머신러닝 모델의 성능을 판단할 경우 적합한 평가지표가 아님\n",
    "    \n",
    "\n",
    "2. 오차행렬(Confusion Matrix, 혼동행렬)\n",
    "\n",
    "    - 학습된 분류 모델이 예측을 수행하면서 얼마나 헷갈리고 있는지도 함께 보여주는 지표\n",
    "    - 일반적으로 불균형한 레이블 클래스를 가지는 이진 분류 모델에서는 중점적으로 찾아야 하는 매우 적은 수의 결과값에 positive를 설정해 1값을 부여하고, 그렇지 않은 경우 negative로 0값을 부여하는 경우가 많음\n",
    "    - 예를 들어, 사기 예측 모델에서는 사기 = positive 양성으로 1, 정상 = negative 음성으로 0\n",
    "    - 암 예측 모델에서는  암이 양성일 경우(암 환자) = positive 양성으로 1, 암이 음성일 경우(암 아닐 경우) = negative 음성으로 0\n",
    "    \n",
    "    ![이미지](오차행렬.png)\n",
    "\n",
    "    - TN: 예측값을 Negative값 0으로 예측했고 실제값 역시 Negative값 0\n",
    "    - FP(type 1 error): 예측값을 Positive값 1로 예측했는데 실제값은 Negative값 0. 임신을 안했는데 임신을 했다고 잘못 예측\n",
    "    - FN(type 2 error): 예측값을 Negative값 0으로 예측했는데 실제값은 Positive값 1. 임신을 했는데 임신을 안했다고 잘못 예측\n",
    "    - TP: 예측값을 Positive값 1로 예측했는데 실제값 역시 Positive값 1\n",
    "    - 오차행렬의 값을 조합해 정확도(Accuracy), 정밀도(Precision), 재현율(Recall)값을 알 수 있음\n",
    "    - 정확도 = 예측 결과와 실제 값이 동일한 건수 / 전체 데이터 수 = (TN + TP) / (TN + FP + FN + TP)\n",
    "    \n",
    "    \n",
    "3. 재현율(Recall, 민감도(sesitivity) 또는 TPR(true positive rate)) & 4. 정밀도(Precision)  \n",
    "\n",
    "    - 정밀도와 재현율은 positive 데이터 세트의 예측 성능에 좀 더 초점을 맞춘 평가 지표\n",
    "    - 재현율과 정밀도 모두 TP를 높이는 데 동일하게 초점을 맞추지만, 재현율은 FN(실제positive, 예측negative)를 낮추는데, 정밀도는 FP를 낮추는데 초점을 맞춤\n",
    "    - 따라서, 재현율과 정밀도는 서로 보완적인 지표로 분류의 성능을 평가하는 데 적용됨\n",
    "    - 가장 좋은 성능 평가는 재현율과 정밀도 모두 높은 수치를 얻는 것\n",
    "    - 둘 중 어느 한 평가 지표만 매우 높고, 다른 수치는 매우 낮은 결과를 나타내는 경우는 바람직하지 않음\n",
    "    - 재현율 = 실제값이 positive인 대상 중에 예측값과 실제값이 positive로 일치한 데이터의 비율 = TP / (FN + TP)\n",
    "    - 정밀도 = 예측을 positive로 한 대상 중에 예측값과 실제값이 positive로 일치한 데이터의 비율 = TP / (FP + TP)\n",
    "    \n",
    "    \n",
    "    - 정밀도와 재현율 중 이진 분류 모델의 업무 특성에 따라 특정 평가 지표가 더 중요한 지표로 간주될 수 있음\n",
    "    - 재현율이 중요 지표인 경우 = 실제 positive 양성 데이터를 negative로 잘못 판단하게 되면 업무상 큰 영향이 발생하는 경우\n",
    "        - 예를 들어, 암 예측 모델은 재현율이 매우 중요. 실제 positive인 암 환자를 positive 양성이 아닌 negative 음성으로 잘못 판단했을 경우 오류의 대가로 치료를 못 받을 수 있기 때문\n",
    "        - 보험 사기와 같은 금융 사기 적발 모델도 재현율이 중요. 실제 금융거래 사기인 positive 건을 negative로 잘못 판단하게 되면 회사에 미치는 손해가 큼\n",
    "    - 정밀도가 중요 지표인 경우 = 실제 negative 음성인 데이터 예측을 positive 양성으로 잘못 판단하게 되면 업무상 큰 영향이 발생하는 경우\n",
    "        - 예를 들어, 스팸메일 여부를 판단하는 모델의 경우 실제 negative인 일반 메일을 positive인 스팸 메일로 분류할 경우에는 메일을 아예 받지 못하게 됨\n",
    "    \n",
    "\n",
    "5. F1 스코어\n",
    "\n",
    "    - 정밀도와 재현율을 결합한 지표\n",
    "    - 정밀도와 재현율이 어느 한쪽으로 치우치지 않는 수치를 나타낼 때 상대적으로 높은 값을 가짐\n",
    "    - 2 * precision * recall / precision + recall\n",
    "    \n",
    "\n",
    "6. ROC곡선과 AUC스코어\n",
    "\n",
    "    - 이진 분류 모델의 예측 성능을 판단하는 중요한 평가 지표\n",
    "    - ROC곡선은 FPR(false positive rate)이 변할 때 TPR(true positive rate)이 어떻게 변하는지를 나타내는 곡선\n",
    "    - FPR을 x축으로, TPR을 y축으로 잡으면 FPR의 변화에 따른 TPR의 변화가 곡선 형태로 나타남\n",
    "    - TPR = 재현율(민감도): 실제값 positive(양성)가 정확히 예측돼야 하는 수준을 나타냄(질병이 있는 사람은 질병이 있는 것으로 양성 판정)\n",
    "    - TNR(true negative rate) = 특이성(specificity): 민감도에 대응하는 지표. 실제값 negative(음성)가 정확히 예측돼야 하는 수준을 나타냄(질병이 없는 건강한 사람은 질병이 없는 것으로 음성 판정)\n",
    "    - TNR = TN / (FP + TN)\n",
    "    - FPR = FP / (FP + TN) = 1 - TNR = 1 - 특이성\n",
    "    - ROC곡선이 대각선이면 AUC는 0.5\n",
    "    - ROC곡선이 가운데 직선에 가까울수록 성능이 떨어지는 것이며, 멀어질수록 성능이 뛰어남\n",
    "    - ROC곡선은 FPR을 0부터 1까지 변경하면서 TPR의 변화값을 구함\n",
    "    - FPR을 0부터 1까지 변경하는 방법 = 분류 결정 임계값 변경\n",
    "        - 분류 결정 임계값은 positive 예측값을 결정하는 확률의 기준이기 때문에 FPR을 0으로 만들려면 임계값을 1로 지정하면 됨\n",
    "        - 임계값을 1로 지정하면 positive 예측 기준이 매우 높기 때문에 classifier가 임계값보다 높은 확률을 가진 데이터를 positive로 예측할 수 없기 때문.\n",
    "        - 아예 positive로 예측하지 않기 대문에 FP값이 0이 되어 FPR = 0이 됨\n",
    "        - 반대로 FPR = 1로 만들려면 TN = 0으로 만들면 됨. 그러려면 분류 결정 임계값을 0으로 지정하면 됨\n",
    "        - 그럼 분류기의 positive 확률 기준이 너무 낮아서 다 positive로 예측함\n",
    "        - 그럼 negative예측이 없기 때문에 TN = 0이 되고 FPR = 1이 됨\n",
    "        \n",
    "        \n",
    "    - AUC(area under curve): ROC곡선 밑의 면적을 구한 것. 1에 가까울수록 좋은 수치\n",
    "    - AUC수치가 커지려면 FPR이 작은 상태에서 얼마나 큰 TPR을 얻을 수 있느냐가 관건\n",
    "    - 가운데 직선에서 멀어지고 왼쪽 상단 모서리 쪽으로 가파르게 곡선이 이동할수록 직사각형에 가까운 곡선이 되어 면적이 1에 가까워지는 좋은 ROC AUC 성능 수치를 얻게 됨"
   ]
  },
  {
   "cell_type": "markdown",
   "metadata": {},
   "source": [
    "#### 로지스틱 회귀를 이용한 타이타닉 생존자 예측의 성능 평가 지표"
   ]
  },
  {
   "cell_type": "code",
   "execution_count": 1,
   "metadata": {},
   "outputs": [],
   "source": [
    "# 성능 평가 지표 함수\n",
    "from sklearn.metrics import accuracy_score, precision_score, recall_score, confusion_matrix\n",
    "\n",
    "def get_clf_eval(y_test, pred):\n",
    "    confusion = confusion_matrix(y_test, pred)\n",
    "    accuracy = accuracy_score(y_test, pred)\n",
    "    precision = precision_score(y_test, pred)\n",
    "    recall = recall_score(y_test, pred)\n",
    "    print('오차 행렬')\n",
    "    print(confusion)\n",
    "    print('정확도: {0:.4f}, 정밀도: {1:.4f}, 재현율: {2:.4f}'.format(accuracy, precision, recall))"
   ]
  },
  {
   "cell_type": "code",
   "execution_count": 2,
   "metadata": {},
   "outputs": [],
   "source": [
    "# null 처리 함수\n",
    "def fillna(df):\n",
    "    df['Age'].fillna(df['Age'].mean(), inplace = True)\n",
    "    df['Cabin'].fillna('N', inplace = True)\n",
    "    df['Embarked'].fillna('N', inplace = True)\n",
    "    return df\n",
    "\n",
    "# 불필요한 피처 제거\n",
    "def drop_features(df):\n",
    "    df.drop(['PassengerId', 'Name', 'Ticket'], axis = 1, inplace = True)\n",
    "    return df\n",
    "\n",
    "# 레이블 인코딩 수행\n",
    "from sklearn.preprocessing import LabelEncoder\n",
    "def format_features(df):\n",
    "    df['Cabin'] = df['Cabin'].str[:1]\n",
    "    features = ['Cabin', 'Sex', 'Embarked']\n",
    "    for feature in features:\n",
    "        le = LabelEncoder()\n",
    "        le = le.fit(df[feature])\n",
    "        df[feature] = le.transform(df[feature])\n",
    "    return df\n",
    "\n",
    "# 앞에서 설정한 데이터 전처리 함수 호출\n",
    "def transform_features(df):\n",
    "    df = fillna(df)\n",
    "    df = drop_features(df)\n",
    "    df = format_features(df)\n",
    "    return df"
   ]
  },
  {
   "cell_type": "code",
   "execution_count": 3,
   "metadata": {},
   "outputs": [
    {
     "name": "stdout",
     "output_type": "stream",
     "text": [
      "오차 행렬\n",
      "[[108  10]\n",
      " [ 14  47]]\n",
      "정확도: 0.8659, 정밀도: 0.8246, 재현율: 0.7705\n"
     ]
    }
   ],
   "source": [
    "import pandas as pd\n",
    "from sklearn.model_selection import train_test_split\n",
    "from sklearn.linear_model import LogisticRegression\n",
    "\n",
    "# 원본 데이터 로딩, 데이터 가공, 학습 데이터/테스트 데이터 분할\n",
    "df = pd.read_csv('train.csv')\n",
    "y = df['Survived']\n",
    "X = df.drop('Survived', axis = 1)\n",
    "X = transform_features(X)\n",
    "\n",
    "x_train, x_test, y_train, y_test = train_test_split(X, y, test_size = 0.2, random_state = 11)\n",
    "\n",
    "lr_clf = LogisticRegression(solver = 'liblinear')     # solver의 기본값 = lbfgs. 데이터 세트가 상대적으로 크고 다중 분류인 경우 적합\n",
    "                                 # solver = 'liblinear'은 보통 작은 데이터 세트이고 이진 분류인 경우 약간 성능이 더 좋은 경향이 있음\n",
    "lr_clf.fit(x_train, y_train)\n",
    "pred = lr_clf.predict(x_test)\n",
    "get_clf_eval(y_test, pred)"
   ]
  },
  {
   "cell_type": "markdown",
   "metadata": {},
   "source": [
    "## 정밀도/재현율 트레이드오프(Trade-off)\n",
    "\n",
    "- 분류하려는 업무의 특성상 정밀도 또는 재현율이 특별히 강조돼야 할 경우 분류의 결정 임계값(Threshold)을 조정해 정밀도 또는 재현율의 수치를 높일 수 있음\n",
    "- 하지만 정밀도와 재현율은 상호 보완적인 평가 지표이기 때문에 어느 한쪽을 강제로 높이면 다른 하나의 수치는 떨어지기 쉬움\n",
    "- 이를 정밀도/재현율 트레이드오프라고 함\n",
    "\n",
    "\n",
    "- 일반적으로, 이진분류에서는 임곗값을 0.5로 정하고 이 기준값보다 확률이 크면 positive, 작으면 negative로 결정함\n",
    "- 사이킷런은 개별 데이터별로 예측 확률을 반환하는 메서드인 predict_proba()를 제공\n",
    "- predict_proba() 메서드는 학습이 완료된 사이킷런 classifier 객체에서 호출기 가능하며 테스트 피처 데이터 세트를 파라미터로 입력해주면 테스트 피처 레코드의 개별 클래스 예측 확률을 반환함\n",
    "- 반환값은 개별 클래스의 예측 확률을 ndarray m * n(m: 입력값의 레코드 수, n: 클래스 값 유형)형태로 반환\n",
    "- 각 열은 개별 클래스의 예측확률. 이진 분류에서 첫번째 칼럼은 0 negative의 확률, 두번째 칼럼은 1 positive의 확률"
   ]
  },
  {
   "cell_type": "code",
   "execution_count": 4,
   "metadata": {},
   "outputs": [
    {
     "name": "stdout",
     "output_type": "stream",
     "text": [
      "pred_proba() 결과 shape: (179, 2)\n",
      "pred_proba array에서 앞 3개만 샘플로 추출 \n",
      ":  [[0.44935226 0.55064774]\n",
      " [0.86335512 0.13664488]\n",
      " [0.86429644 0.13570356]]\n",
      "두 개의 class 중에서 더 큰 확률을 클래스 값으로 예측 \n",
      " [[0.44935226 0.55064774 1.        ]\n",
      " [0.86335512 0.13664488 0.        ]\n",
      " [0.86429644 0.13570356 0.        ]]\n"
     ]
    }
   ],
   "source": [
    "import numpy as np\n",
    "\n",
    "pred_proba = lr_clf.predict_proba(x_test)\n",
    "pred = lr_clf.predict(x_test)\n",
    "print('pred_proba() 결과 shape: {0}'.format(pred_proba.shape))\n",
    "print('pred_proba array에서 앞 3개만 샘플로 추출 \\n: ', pred_proba[:3])\n",
    "\n",
    "# 예측 확률 array와 예측 결과값 array를 병합해 예측 확률과 결과값을 한눈에 확인\n",
    "pred_proba_result = np.concatenate([pred_proba, pred.reshape(-1, 1)], axis = 1)\n",
    "print('두 개의 class 중에서 더 큰 확률을 클래스 값으로 예측 \\n', pred_proba_result[:3])     # 임계값 = 0.5"
   ]
  },
  {
   "cell_type": "code",
   "execution_count": 5,
   "metadata": {},
   "outputs": [
    {
     "name": "stdout",
     "output_type": "stream",
     "text": [
      "오차 행렬\n",
      "[[108  10]\n",
      " [ 14  47]]\n",
      "정확도: 0.8659, 정밀도: 0.8246, 재현율: 0.7705\n"
     ]
    }
   ],
   "source": [
    "# Binarizer를 이용하면 지정된 Threshold보다 같거나 작으면 0값으로, 크면 1값으로 변환해 반환\n",
    "\n",
    "from sklearn.preprocessing import Binarizer\n",
    "\n",
    "# Binarizer의 threshold 설정값. 분류 결정 임곗값\n",
    "custom_threshold = 0.5\n",
    "\n",
    "# predict_proba() 반환값의 두번째 칼럼, 즉 positive 클래스 칼럼 하나만 추출해 Binarizer 적용\n",
    "pred_proba_1 = pred_proba[:, 1].reshape(-1, 1)\n",
    "\n",
    "binarizer = Binarizer(threshold = custom_threshold).fit(pred_proba_1)\n",
    "custom_predict = binarizer.transform(pred_proba_1)\n",
    "\n",
    "get_clf_eval(y_test, custom_predict)"
   ]
  },
  {
   "cell_type": "code",
   "execution_count": 6,
   "metadata": {},
   "outputs": [
    {
     "name": "stdout",
     "output_type": "stream",
     "text": [
      "오차 행렬\n",
      "[[97 21]\n",
      " [11 50]]\n",
      "정확도: 0.8212, 정밀도: 0.7042, 재현율: 0.8197\n"
     ]
    }
   ],
   "source": [
    "# threshold값을 0.4로 변경\n",
    "\n",
    "custom_threshold = 0.4\n",
    "pred_proba_1 = pred_proba[:, 1].reshape(-1, 1)\n",
    "binarizer = Binarizer(threshold = custom_threshold).fit(pred_proba_1)\n",
    "custom_predict = binarizer.transform(pred_proba_1)\n",
    "get_clf_eval(y_test, custom_predict)"
   ]
  },
  {
   "cell_type": "markdown",
   "metadata": {},
   "source": [
    "- 임계값을 낮추니 재현율이 올라가고 정밀도가 떨어짐\n",
    "- 왜냐하면 분류결정 임계값은 positive 예측값을 결정하는 확률의 기준이 되기 때문\n",
    "- 확률이 0.5가 아닌 0.4부터 positive로 예측을 하였으므로 임계값을 낮출수록 True값이 많아지게 됨\n",
    "- positive 예측값이 많아지면 상대적으로 재현율이 높아짐. 양성 예측을 많이 하다 보니 실제 양성을 음성으로 예측하는 횟수가 상대적으로 줄어들기 때문"
   ]
  },
  {
   "cell_type": "code",
   "execution_count": 9,
   "metadata": {},
   "outputs": [
    {
     "name": "stdout",
     "output_type": "stream",
     "text": [
      "임계값:  0.4\n",
      "오차 행렬\n",
      "[[97 21]\n",
      " [11 50]]\n",
      "정확도: 0.8212, 정밀도: 0.7042, 재현율: 0.8197\n",
      "\n",
      "임계값:  0.45\n",
      "오차 행렬\n",
      "[[105  13]\n",
      " [ 13  48]]\n",
      "정확도: 0.8547, 정밀도: 0.7869, 재현율: 0.7869\n",
      "\n",
      "임계값:  0.5\n",
      "오차 행렬\n",
      "[[108  10]\n",
      " [ 14  47]]\n",
      "정확도: 0.8659, 정밀도: 0.8246, 재현율: 0.7705\n",
      "\n",
      "임계값:  0.55\n",
      "오차 행렬\n",
      "[[111   7]\n",
      " [ 16  45]]\n",
      "정확도: 0.8715, 정밀도: 0.8654, 재현율: 0.7377\n",
      "\n",
      "임계값:  0.6\n",
      "오차 행렬\n",
      "[[113   5]\n",
      " [ 17  44]]\n",
      "정확도: 0.8771, 정밀도: 0.8980, 재현율: 0.7213\n",
      "\n"
     ]
    }
   ],
   "source": [
    "# 임계값을 0.4 ~ 0.6까지 0.05씩 증가시키며 평가 지표 확인\n",
    "\n",
    "# 테스트를 수행할 모든 임계값을 리스트 객체로 저장\n",
    "thresholds = [0.4, 0.45, 0.5, 0.55, 0.6]\n",
    "\n",
    "def get_eval_by_threshold(y_test, pred_proba_c1, thresholds):\n",
    "    # thresholds list객체 내의 값을 차례로 iteration하면서 evaluation 수행\n",
    "    for custom_threshold in thresholds:\n",
    "        binarizer = Binarizer(threshold = custom_threshold).fit(pred_proba_c1)\n",
    "        custom_predict = binarizer.transform(pred_proba_c1)\n",
    "        print('임계값: ', custom_threshold)\n",
    "        get_clf_eval(y_test, custom_predict)\n",
    "        print()\n",
    "        \n",
    "get_eval_by_threshold(y_test, pred_proba[:, 1].reshape(-1, 1), thresholds)"
   ]
  },
  {
   "cell_type": "markdown",
   "metadata": {},
   "source": [
    "### precision_recall_curve()을 이용한 타이타닉 예측 모델의 임계값별 정밀도와 재현율\n",
    "\n",
    "#### 입력 파라미터\n",
    "- y_true: 실제 클래스값 배열(배열 크기 = [데이터 건수])\n",
    "- probas_pred: positive 칼럼의 예측 확률 배열(배열 크기 = [데이터 건수])\n",
    "\n",
    "#### 반환값\n",
    "- 정밀도: 임계값별 정밀도 값을 배열로 반환\n",
    "- 재현율: 임계값별 재현율 값을 배열로 반환\n",
    "- 일반적으로 0.11 ~ 0.95 정도의 임계값을 담은 넘파이 ndarray와 이 임계값에 해당하는 정밀도 및 재현율값을 담은 넘파이 ndarray를 반환"
   ]
  },
  {
   "cell_type": "code",
   "execution_count": 10,
   "metadata": {},
   "outputs": [
    {
     "name": "stdout",
     "output_type": "stream",
     "text": [
      "반환된 분류 결정 임계값 배열의 shape:  (147,)\n",
      "샘플 추출을 위한 임계값 배열의 index 10개:  [  0  15  30  45  60  75  90 105 120 135]\n",
      "샘플용 10개의 임계값:  [0.12 0.13 0.15 0.17 0.26 0.38 0.49 0.63 0.76 0.9 ]\n",
      "샘플 임계값별 정밀도:  [0.379 0.424 0.455 0.519 0.618 0.676 0.797 0.93  0.964 1.   ]\n",
      "샘플 임계값별 재현율:  [1.    0.967 0.902 0.902 0.902 0.82  0.77  0.656 0.443 0.213]\n"
     ]
    }
   ],
   "source": [
    "from sklearn.metrics import precision_recall_curve\n",
    "\n",
    "# 레이블 값이 1일 때의 예측 확률 추출\n",
    "pred_proba_class1 = lr_clf.predict_proba(x_test)[:, 1]\n",
    "\n",
    "# 실제값 데이터 세트와 레이블 값이 1일 때의 예측 확률을 precision_recall_curve 인자로 입력\n",
    "precisions, recalls, thresholds = precision_recall_curve(y_test, pred_proba_class1)\n",
    "print('반환된 분류 결정 임계값 배열의 shape: ', thresholds.shape)\n",
    "\n",
    "# 반환된 임계값 배열 로우가 147건이므로 샘플로 10건만 추출하되, 임계값을 15step으로 추출\n",
    "thr_index = np.arange(0, thresholds.shape[0], 15)\n",
    "print('샘플 추출을 위한 임계값 배열의 index 10개: ', thr_index)\n",
    "print('샘플용 10개의 임계값: ', np.round(thresholds[thr_index], 2))\n",
    "\n",
    "# 15step 단위로 추출된 임계값에 따른 정밀도와 재현율 값\n",
    "print('샘플 임계값별 정밀도: ', np.round(precisions[thr_index], 3))\n",
    "print('샘플 임계값별 재현율: ', np.round(recalls[thr_index], 3))"
   ]
  },
  {
   "cell_type": "markdown",
   "metadata": {},
   "source": [
    "- 임계값이 증가할수록 정밀도는 증가하고 재현율은 감소함"
   ]
  },
  {
   "cell_type": "code",
   "execution_count": 11,
   "metadata": {},
   "outputs": [
    {
     "data": {
      "image/png": "[encoded data removed]",
      "text/plain": [
       "<Figure size 576x432 with 1 Axes>"
      ]
     },
     "metadata": {
      "needs_background": "light"
     },
     "output_type": "display_data"
    }
   ],
   "source": [
    "# 정밀도와 재현율의 임계값에 따른 값 변화 시각화\n",
    "\n",
    "import matplotlib.pyplot as plt\n",
    "import matplotlib.ticker as ticker\n",
    "%matplotlib inline\n",
    "\n",
    "def precision_recall_curve_plot(y_test, pred_proba_c1):\n",
    "    # threshold ndarray와 이 threshold에 따른 정밀도, 재현율 ndarray 추출\n",
    "    precisions, recalls, thresholds = precision_recall_curve(y_test, pred_proba_c1)\n",
    "    \n",
    "    # x축을 threshold값으로, y축은 정밀도, 재현율 값으로 각각 plot 수행. 정밀도는 점선으로 표시\n",
    "    plt.figure(figsize = (8, 6))\n",
    "    threshold_boundary = thresholds.shape[0]\n",
    "    plt.plot(thresholds, precisions[0:threshold_boundary], linestyle = '--', label = 'precision')\n",
    "    plt.plot(thresholds, recalls[0:threshold_boundary], label = 'recall')\n",
    "    \n",
    "    # threshold값 x축의 scale을 0.1단위로 변경\n",
    "    start, end = plt.xlim()\n",
    "    plt.xticks(np.round(np.arange(start, end, 0.1), 2))\n",
    "    \n",
    "    # x축, y축 label과 legend, 그리고 grid 설정\n",
    "    plt.xlabel('Threshold value')\n",
    "    plt.ylabel('Precision and Recall value')\n",
    "    plt.legend()\n",
    "    plt.grid()\n",
    "    plt.show()\n",
    "    \n",
    "precision_recall_curve_plot(y_test, lr_clf.predict_proba(x_test)[:, 1])"
   ]
  },
  {
   "cell_type": "markdown",
   "metadata": {},
   "source": [
    "- 약 0.45지점에서 재현율과 정밀도가 비슷해짐"
   ]
  },
  {
   "cell_type": "markdown",
   "metadata": {},
   "source": [
    "## F1스코어\n",
    "\n",
    "- 위에서 학습/예측한 로지스틱 회귀 기반 타이타닉 생존자 모델의 F1스코어"
   ]
  },
  {
   "cell_type": "code",
   "execution_count": 12,
   "metadata": {},
   "outputs": [
    {
     "name": "stdout",
     "output_type": "stream",
     "text": [
      "F1 스코어: 0.7966\n"
     ]
    }
   ],
   "source": [
    "from sklearn.metrics import f1_score\n",
    "f1 = f1_score(y_test, pred)\n",
    "print('F1 스코어: {0:.4f}'.format(f1))"
   ]
  },
  {
   "cell_type": "code",
   "execution_count": 13,
   "metadata": {},
   "outputs": [
    {
     "name": "stdout",
     "output_type": "stream",
     "text": [
      "임계값:  0.4\n",
      "오차 행렬\n",
      "[[97 21]\n",
      " [11 50]]\n",
      "정확도: 0.8212, 정밀도: 0.7042, 재현율: 0.8197, F1: 0.7576\n",
      "\n",
      "임계값:  0.45\n",
      "오차 행렬\n",
      "[[105  13]\n",
      " [ 13  48]]\n",
      "정확도: 0.8547, 정밀도: 0.7869, 재현율: 0.7869, F1: 0.7869\n",
      "\n",
      "임계값:  0.5\n",
      "오차 행렬\n",
      "[[108  10]\n",
      " [ 14  47]]\n",
      "정확도: 0.8659, 정밀도: 0.8246, 재현율: 0.7705, F1: 0.7966\n",
      "\n",
      "임계값:  0.55\n",
      "오차 행렬\n",
      "[[111   7]\n",
      " [ 16  45]]\n",
      "정확도: 0.8715, 정밀도: 0.8654, 재현율: 0.7377, F1: 0.7965\n",
      "\n",
      "임계값:  0.6\n",
      "오차 행렬\n",
      "[[113   5]\n",
      " [ 17  44]]\n",
      "정확도: 0.8771, 정밀도: 0.8980, 재현율: 0.7213, F1: 0.8000\n",
      "\n"
     ]
    }
   ],
   "source": [
    "# 타이타닉 생존자 예측에서 임계값을 변화시키면서 F1 스코어를 포함한 평가 지표 확인\n",
    "# 위에서 작성한 get_eval_by_threshold()함수를 이용해 임계값 0.4 ~ 0.6별로 정확도, 정밀도, 재현율, F1 스코어 확인\n",
    "\n",
    "def get_clf_eval(y_test, pred):\n",
    "    confusion = confusion_matrix(y_test, pred)\n",
    "    accuracy = accuracy_score(y_test, pred)\n",
    "    precision = precision_score(y_test, pred)\n",
    "    recall = recall_score(y_test, pred)\n",
    "    \n",
    "    # F1스코어 추가\n",
    "    f1 = f1_score(y_test, pred)\n",
    "    print('오차 행렬')\n",
    "    print(confusion)\n",
    "    print('정확도: {0:.4f}, 정밀도: {1:.4f}, 재현율: {2:.4f}, F1: {3:.4f}'.format(accuracy, precision, recall, f1))\n",
    "    \n",
    "thresholds = [0.4, 0.45, 0.5, 0.55, 0.6]\n",
    "pred_proba = lr_clf.predict_proba(x_test)\n",
    "get_eval_by_threshold(y_test, pred_proba[:, 1].reshape(-1, 1), thresholds)"
   ]
  },
  {
   "cell_type": "markdown",
   "metadata": {},
   "source": [
    "## roc_curve()\n",
    "\n",
    "### 입력 파라미터\n",
    "\n",
    "- y_true: 실제 클래스 값 array(array shape = [데이터 건수])\n",
    "- y_score: predict_proba()의 반환 값 array에서 positive 칼럼의 예측 확률이 보통 사용됨(array shape = [n_samples])\n",
    "\n",
    "### 반환값\n",
    "\n",
    "- fpr: fpr값을 array로 반환\n",
    "- tpr: tpr값을 array로 반환\n",
    "- thresholds: threshold 값 array"
   ]
  },
  {
   "cell_type": "code",
   "execution_count": 14,
   "metadata": {},
   "outputs": [
    {
     "name": "stdout",
     "output_type": "stream",
     "text": [
      "샘플 추출을 위한 임계값 배열의 index:  [ 1  6 11 16 21 26 31 36 41 46]\n",
      "샘플 index로 추출한 임계값:  [0.94 0.73 0.62 0.52 0.44 0.28 0.15 0.14 0.13 0.12]\n",
      "샘플 임계값별 FPR:  [0.    0.008 0.025 0.076 0.127 0.254 0.576 0.61  0.746 0.847]\n",
      "샘플 임계값별 TPR:  [0.016 0.492 0.705 0.738 0.803 0.885 0.902 0.951 0.967 1.   ]\n"
     ]
    }
   ],
   "source": [
    "# roc_curve()를 이용해 타이타닉 생존자 예측 모델의 FPR, TPR, 임계값 구하기\n",
    "\n",
    "from sklearn.metrics import roc_curve\n",
    "\n",
    "# 레이블 값이 1일 때의 예측 확률 추출\n",
    "pred_proba_class1 = lr_clf.predict_proba(x_test)[:, 1]\n",
    "\n",
    "fprs, tprs, thresholds = roc_curve(y_test, pred_proba_class1)\n",
    "\n",
    "# 반환된 임계값 배열에서 샘플로 데이터를 추출하되, 임계값을 5step으로 추출\n",
    "# thresholds[0]은 max(예측확률) + 1로 임의 설정됨. 이를 제외하기 위해 np.arange는 1부터 시작\n",
    "thr_index = np.arange(1, thresholds.shape[0], 5)\n",
    "print('샘플 추출을 위한 임계값 배열의 index: ', thr_index)\n",
    "print('샘플 index로 추출한 임계값: ', np.round(thresholds[thr_index], 2))\n",
    "\n",
    "# 5step 단위로 추출된 임계값에 따른 FPR, TPR값\n",
    "print('샘플 임계값별 FPR: ', np.round(fprs[thr_index], 3))\n",
    "print('샘플 임계값별 TPR: ', np.round(tprs[thr_index], 3))"
   ]
  },
  {
   "cell_type": "markdown",
   "metadata": {},
   "source": [
    "- 임계값이 작아지면서 FPR이 점점 커짐. FPR이 커짐에 따라 TPR은 가파르게 커짐"
   ]
  },
  {
   "cell_type": "code",
   "execution_count": 15,
   "metadata": {},
   "outputs": [
    {
     "data": {
      "image/png": "[encoded data removed]",
      "text/plain": [
       "<Figure size 432x288 with 1 Axes>"
      ]
     },
     "metadata": {
      "needs_background": "light"
     },
     "output_type": "display_data"
    }
   ],
   "source": [
    "# FPR의 변화에 따른 TPR의 변화를 ROC곡선으로 시각화\n",
    "\n",
    "def roc_curve_plot(y_test, pred_proba_c1):\n",
    "    # 임계값에 따른 FPR, TPR값을 반환\n",
    "    fprs, tprs, thresholds = roc_curve(y_test, pred_proba_c1)\n",
    "    \n",
    "    # ROC곡선\n",
    "    plt.plot(fprs, tprs, label = 'ROC')\n",
    "    \n",
    "    # 가운데 대각선\n",
    "    plt.plot([0, 1], [0, 1], 'k--', label = 'Random')\n",
    "    \n",
    "    # FPR x축의 scale을 0.1단위로 변경, x, y축명 설정\n",
    "    start, end = plt.xlim()\n",
    "    plt.xticks(np.round(np.arange(start, end, 0.1), 2))\n",
    "    plt.xlim(0, 1)\n",
    "    plt.ylim(0, 1)\n",
    "    plt.xlabel('FPR(1 - sensitivity)')\n",
    "    plt.ylabel('TPR(recall)')\n",
    "    plt.legend()\n",
    "    \n",
    "roc_curve_plot(y_test, pred_proba[:, 1])"
   ]
  },
  {
   "cell_type": "markdown",
   "metadata": {},
   "source": [
    "- ROC 곡선 자체는 FPR과 TPR의 변화 값을 보는데 이용\n",
    "- 분류의 성능 지표로 사용되는 것은 ROC곡선 면적에 기반한 AUC값"
   ]
  },
  {
   "cell_type": "code",
   "execution_count": 16,
   "metadata": {},
   "outputs": [
    {
     "name": "stdout",
     "output_type": "stream",
     "text": [
      "ROC AUC값: 0.8987\n"
     ]
    }
   ],
   "source": [
    "# AUC\n",
    "\n",
    "from sklearn.metrics import roc_auc_score\n",
    "\n",
    "pred_proba = lr_clf.predict_proba(x_test)[:, 1]\n",
    "roc_score = roc_auc_score(y_test, pred_proba)\n",
    "print('ROC AUC값: {0:.4f}'.format(roc_score))"
   ]
  },
  {
   "cell_type": "code",
   "execution_count": 17,
   "metadata": {},
   "outputs": [
    {
     "name": "stdout",
     "output_type": "stream",
     "text": [
      "오차 행렬\n",
      "[[108  10]\n",
      " [ 14  47]]\n",
      "정확도: 0.8659, 정밀도: 0.8246, 재현율: 0.7705, F1: 0.7966, AUC: 0.8987\n"
     ]
    }
   ],
   "source": [
    "# get_clf_eval()함수로 정확도, 정밀도, 재현율, F1스코어, ROC AUC값 출력\n",
    "\n",
    "def get_clf_eval(y_test, pred = None, pred_proba = None):\n",
    "    confusion = confusion_matrix(y_test, pred)\n",
    "    accuracy = accuracy_score(y_test, pred)\n",
    "    precision = precision_score(y_test, pred)\n",
    "    recall = recall_score(y_test, pred)\n",
    "    f1 = f1_score(y_test, pred)\n",
    "    roc_auc = roc_auc_score(y_test, pred_proba)\n",
    "    print('오차 행렬')\n",
    "    print(confusion)\n",
    "    print('정확도: {0:.4f}, 정밀도: {1:.4f}, 재현율: {2:.4f}, F1: {3:.4f}, AUC: {4:.4f}'.format(accuracy, precision, \n",
    "                                                                                                recall, f1, roc_auc))\n",
    "    \n",
    "get_clf_eval(y_test, pred, pred_proba)"
   ]
  }
 ],
 "metadata": {
  "kernelspec": {
   "display_name": "Python 3",
   "language": "python",
   "name": "python3"
  },
  "language_info": {
   "codemirror_mode": {
    "name": "ipython",
    "version": 3
   },
   "file_extension": ".py",
   "mimetype": "text/x-python",
   "name": "python",
   "nbconvert_exporter": "python",
   "pygments_lexer": "ipython3",
   "version": "3.7.6"
  }
 },
 "nbformat": 4,
 "nbformat_minor": 4
}
